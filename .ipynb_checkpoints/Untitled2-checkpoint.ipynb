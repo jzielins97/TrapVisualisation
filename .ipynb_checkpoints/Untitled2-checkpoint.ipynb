{
 "cells": [
  {
   "cell_type": "code",
   "execution_count": 1,
   "id": "f55ac9f1-3c70-45b6-92ff-440a30a1f30a",
   "metadata": {},
   "outputs": [],
   "source": [
    "import re"
   ]
  },
  {
   "cell_type": "code",
   "execution_count": 67,
   "id": "b5bbc60a-2544-4af4-8b57-547a480caf87",
   "metadata": {},
   "outputs": [
    {
     "ename": "KeyError",
     "evalue": "'def_key'",
     "output_type": "error",
     "traceback": [
      "\u001b[1;31m---------------------------------------------------------------------------\u001b[0m",
      "\u001b[1;31mKeyError\u001b[0m                                  Traceback (most recent call last)",
      "Cell \u001b[1;32mIn[67], line 19\u001b[0m\n\u001b[0;32m     17\u001b[0m \u001b[38;5;66;03m# get the default parameter\u001b[39;00m\n\u001b[0;32m     18\u001b[0m regexp \u001b[38;5;241m=\u001b[39m re\u001b[38;5;241m.\u001b[39msearch(\u001b[38;5;124m'\u001b[39m\u001b[38;5;124m(default).*(,|\u001b[39m\u001b[38;5;124m\\\u001b[39m\u001b[38;5;124m))\u001b[39m\u001b[38;5;124m'\u001b[39m, results[i]) \u001b[38;5;66;03m#.(.*?)[,)]+\u001b[39;00m\n\u001b[1;32m---> 19\u001b[0m \u001b[38;5;28mprint\u001b[39m(\u001b[38;5;124;43m'\u001b[39;49m\u001b[38;5;124;43mfound:\u001b[39;49m\u001b[38;5;132;43;01m{def_key}\u001b[39;49;00m\u001b[38;5;124;43m'\u001b[39;49m\u001b[38;5;241;43m.\u001b[39;49m\u001b[43mformat\u001b[49m\u001b[43m(\u001b[49m\u001b[43mdef_key\u001b[49m\u001b[43m)\u001b[49m)\n\u001b[0;32m     22\u001b[0m \u001b[38;5;28;01mif\u001b[39;00m regexp \u001b[38;5;129;01mis\u001b[39;00m \u001b[38;5;129;01mnot\u001b[39;00m \u001b[38;5;28;01mNone\u001b[39;00m:\n\u001b[0;32m     23\u001b[0m     \u001b[38;5;66;03m#def_value = regexp.group().replace('default\\s*','') #.replace('\\s*','').replace(',','')\u001b[39;00m\n\u001b[0;32m     24\u001b[0m     def_value \u001b[38;5;241m=\u001b[39m re\u001b[38;5;241m.\u001b[39msub(\u001b[38;5;124m'\u001b[39m\u001b[38;5;124mdefault\u001b[39m\u001b[38;5;124m\\\u001b[39m\u001b[38;5;124ms*=\u001b[39m\u001b[38;5;124m\\\u001b[39m\u001b[38;5;124ms*\u001b[39m\u001b[38;5;124m'\u001b[39m,\u001b[38;5;124m'\u001b[39m\u001b[38;5;124m'\u001b[39m,regexp\u001b[38;5;241m.\u001b[39mgroup())\n",
      "\u001b[1;31mKeyError\u001b[0m: 'def_key'"
     ]
    }
   ],
   "source": [
    "file = open(\"C:\\kasli-code\\Libraries\\Build_and_Init_Library.py\",'r')\n",
    "# self.Run.data['Build_and_Init_Library'] = self.Run.data['Build_and_Init_Library'].splitlines()\n",
    "lines = file.readlines()\n",
    "\n",
    "# Initializing substring to be searched\n",
    "substring = 'self.setattr_argument'\n",
    "\n",
    "# using list comprehension to get string with substring\n",
    "results = [i for i in lines if substring in i]\n",
    "\n",
    "dict = []\n",
    "for i in range(len(results)):\n",
    "    def_key = re.search('\\(.*$', results[i]).group()[1:(-1)].split(', ')[0][1:(-1)]\n",
    "\n",
    "    if def_key == 'AlexJitterCorr':\n",
    "        print(results[i])\n",
    "    # get the default parameter\n",
    "    regexp = re.search('(default).*(,|\\))', results[i]) #.(.*?)[,)]+\n",
    "    print('found:{def_key}'.format(def_key))\n",
    "    \n",
    "    \n",
    "    if regexp is not None:\n",
    "        #def_value = regexp.group().replace('default\\s*','') #.replace('\\s*','').replace(',','')\n",
    "        def_value = re.sub('default\\s*=\\s*','',regexp.group())\n",
    "        def_value = re.sub(',.*|\\s*)','',def_value)\n",
    "        print(def_value)\n",
    "    \n",
    "    # check and convert dtypes\n",
    "    try:\n",
    "        def_value = float(def_value)\n",
    "    except:\n",
    "        pass\n",
    "\n",
    "    if not isinstance(def_value, float):\n",
    "        try:\n",
    "            def_value = str(def_value)\n",
    "        except:\n",
    "            pass\n",
    "    dict.append({def_key:def_value})\n",
    "    \n",
    "\n",
    "for i in dict:\n",
    "    print(i)\n",
    "    \n",
    "    # if def_key not in hardware.AEgIS.batman.valid_variable_names:\n",
    "    #     for idx in range(len(self.Run.data[hardware.AEgIS.batman.daq_filename])):\n",
    "    #         self.Run.data[hardware.AEgIS.batman.daq_filename][f\"acq_{idx}\"].update({def_key: def_value})"
   ]
  },
  {
   "cell_type": "code",
   "execution_count": 49,
   "id": "9aba9788-5a2e-4ecf-96c8-0c5133bb3643",
   "metadata": {},
   "outputs": [
    {
     "name": "stdout",
     "output_type": "stream",
     "text": [
      "<re.Match object; span=(52, 70), match='(default = False))'>\n"
     ]
    }
   ],
   "source": [
    "print(re.search(\"\\(default\\s*=\\s.*\\)\",'self.setattr_argument(\"AlexJitterCorr\", BooleanValue(default = False))') )"
   ]
  },
  {
   "cell_type": "code",
   "execution_count": 73,
   "id": "dff93a18-7d70-4e3a-b46f-737fecb5c439",
   "metadata": {},
   "outputs": [
    {
     "name": "stdout",
     "output_type": "stream",
     "text": [
      "DAQ:On\n",
      "MCP1T_In:0.0\n",
      "MCP1T_InOut:1000.0\n",
      "MCP1T_OutPhosphor:2800.0\n",
      "NegHV_Ch1:0.0\n",
      "NegHV_Ch2:0.0\n",
      "Catch_Delay:870.0\n",
      "Catch_HotStorageTime:110.0\n",
      "Pbar_CoolingTime:50.0\n",
      "Pbar_EvapTrim:False\n",
      "ELENA_H_OFFSET:-2.41\n",
      "ELENA_V_OFFSET:6.73\n",
      "ELENA_H_ANGLE:3.51\n",
      "ELENA_V_ANGLE:0.0\n",
      "Eloading_TransferredSpaceCharge:70.0\n",
      "Catch_ColdStorageTime:15.0\n",
      "NestedTrap_TrapFloor:130.0\n",
      "NestedTrap_OpeningPulseDuration:2000.0\n",
      "NestedTrap_MCP1T_InOut:1500.0\n",
      "NestedTrap_IonCoolingTime:1.0\n",
      "NestedTrap_Wall:160.0\n",
      "NestedTrap_SqueezeTime:20.0\n",
      "NestedTrap_TrapType:Valts\n",
      "NestedTrap_SqueezedTrapType:2E_ELENA\n",
      "NestedTrap_MRTOF_Time:5e-05\n",
      "NestedTrap_MultiPulse:False\n",
      "BarrierHeight:0.0\n",
      "NestedTrap_RaiseTime:5.0\n",
      "NestedTrap_SqueezeRaise:True\n",
      "detuning_ekspla:0.0\n",
      "delay_ekspla:0.0\n",
      "intensity_ekspla:1.0\n",
      "detuning_alex:0.0\n",
      "delay_alex_raw:0.0\n",
      "VBG_coarse:0.0\n",
      "VBG_fine:0.0\n",
      "MeasTypeName:Invalid\n",
      "AlexJitterCorr:False\n",
      "PositronPulses:1000.0\n",
      "Positron_kicker:2300.0\n",
      "RetCode:3.0\n",
      "WaitTime:1.0\n"
     ]
    }
   ],
   "source": [
    "# # split the file into an array of strings\n",
    "# self.Run.data['Build_and_Init_Library'] = self.Run.data['Build_and_Init_Library'].splitlines()\n",
    "\n",
    "file = open(\"C:\\kasli-code\\Libraries\\Build_and_Init_Library.py\",'r')\n",
    "# self.Run.data['Build_and_Init_Library'] = self.Run.data['Build_and_Init_Library'].splitlines()\n",
    "lines = file.readlines()\n",
    "\n",
    "# Initializing substring to be searched\n",
    "substring = 'self.setattr_argument'\n",
    "\n",
    "# using list comprehension to get string with substring\n",
    "results = [i for i in lines if substring in i]\n",
    "\n",
    "dict = {}\n",
    "for i in range(len(results)):\n",
    "\n",
    "    # get the default parameter\n",
    "    regexp = re.search(\"(default(|\\s*)=(|\\s*)).(.*?)[,)]+\", results[i])\n",
    "    if regexp is not None:\n",
    "        def_value = regexp.group()#.replace('default=','').replace(',','').replace(')','').replace(\"'\",'')\n",
    "        def_value = re.sub('default\\s*=\\s*','',def_value).replace(',','').replace(')','').replace(\"'\",'')\n",
    "    \n",
    "    # check and convert dtypes\n",
    "    try:\n",
    "        def_value = float(def_value)\n",
    "    except:\n",
    "        pass\n",
    "\n",
    "    if not isinstance(def_value, float):\n",
    "        try:\n",
    "            def_value = str(def_value)\n",
    "        except:\n",
    "            pass\n",
    "    \n",
    "    def_key = re.search('\\(.*$', results[i]).group()[1:(-1)].split(', ')[0][1:(-1)]\n",
    "    print(f'{def_key}:{def_value}')\n",
    "    \n",
    "    # if def_key not in hardware.AEgIS.batman.valid_variable_names:\n",
    "    #     for idx in range(len(self.Run.data[hardware.AEgIS.batman.daq_filename])):\n",
    "    #         self.Run.data[hardware.AEgIS.batman.daq_filename][f\"acq_{idx}\"].update({def_key: def_value})\n"
   ]
  },
  {
   "cell_type": "code",
   "execution_count": null,
   "id": "a6d7ea5a-688f-4d93-8ed4-4eef59afc626",
   "metadata": {},
   "outputs": [],
   "source": []
  }
 ],
 "metadata": {
  "kernelspec": {
   "display_name": "Python 3 (ipykernel)",
   "language": "python",
   "name": "python3"
  },
  "language_info": {
   "codemirror_mode": {
    "name": "ipython",
    "version": 3
   },
   "file_extension": ".py",
   "mimetype": "text/x-python",
   "name": "python",
   "nbconvert_exporter": "python",
   "pygments_lexer": "ipython3",
   "version": "3.8.17"
  }
 },
 "nbformat": 4,
 "nbformat_minor": 5
}
